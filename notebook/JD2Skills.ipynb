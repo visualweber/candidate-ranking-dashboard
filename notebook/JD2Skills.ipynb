{
 "cells": [
  {
   "cell_type": "code",
   "execution_count": 3,
   "metadata": {
    "collapsed": false
   },
   "outputs": [],
   "source": [
    "import pandas as pd\n",
    "import nltk\n",
    "from nltk import word_tokenize\n",
    "from nltk.util import ngrams\n"
   ]
  },
  {
   "cell_type": "code",
   "execution_count": 4,
   "metadata": {
    "collapsed": true
   },
   "outputs": [],
   "source": [
    "jd_sample = \"\"\"\n",
    "Mô tả Công việc\n",
    "\n",
    "Tham gia xây dựng, bảo trì sản phẩm (cung cấp dịch vụ phân tích dữ liệu quản lý cho các khách hàng lớn như Starbucks, Hilton, FPT, .etc) trên nền tảng iOS.\n",
    "Tham gia phát triển ứng dụng chuyên biệt về phân tích dữ liệu quản lý.\n",
    "Nghiên cứu và phát triển các kỹ thuật mới cho ứng dụng.\n",
    "Phối hợp với các QC để đảm bảo chất lượng cho sản phẩm.\n",
    "Lập trình cho các dịch vụ gởi thông báo (push notification) trên IOS\n",
    "Các công việc do cấp trên trực tiếp giao.\n",
    "Yêu Cầu Công Việc\n",
    "\n",
    "Có kinh nghiệm lập trình cho các dịch vụ gởi thông báo (push notification) trên IOS\n",
    "Có 1 năm kinh nghiệm lập trình ứng dụng di đông.\n",
    "Am hiểu lập trình hướng đối tượng (OOP)\n",
    "Có kinh nghiệm lập trình giao tiếp giữa mobile với server qua các giao thức TCP/IP, WebService và JSON/XML.\n",
    "Có kinh nghiệm về Nodejs, Zend 1.x và Laravel là một lợi thế.\n",
    "Kinh nghiệm làm việc với: HTML, CSS, Javacript, SQLite, PHP (Framework), Hybrid App và Native App xử lý các dạng đồ thị là một lợi thế lớn.\n",
    "Khả năng làm việc độc lập và làm việc nhóm, chịu được áp lực cao.\n",
    "Sử dụng tiếng Anh thành thạo (đọc và viết)\n",
    "PHÚC LỢI:\n",
    "Nhân viên công ty được hỗ trợ chỗ ở ; hỗ trợ ăn trưa tại nhà chung\n",
    "Thu nhập hấp dẫn, xứng đáng với khả năng và thành tích cá nhân;\n",
    "Thông tin khác\n",
    "\n",
    "Bằng cấp: Cao đẳng\n",
    "Độ tuổi: Không giới hạn tuổi\n",
    "Hình thức: Nhân viên chính thức\n",
    "Thời gian thử việc: 2 tháng\n",
    "Thời gian làm việc: Giờ hành chính\n",
    "Cơ hội huấn luyện: Có cơ hội tham gia các lớp đào tạo tiếng Anh miễn phí;\n",
    "Phúc lợi:\n",
    "Thu nhập hấp dẫn, xứng đáng với khả năng và thành tích cá nhân;\n",
    "Được hưởng đầy đủ chế độ Bảo hiểm xã hội, Bảo hiểm y tế;\n",
    "Phụ cấp khác: Các hoạt động vui chơi, giải trí: thư viện, đọc sách, chơi bida, hoạt động thể thao.\n",
    "Ngày nghỉ:\n",
    "Được nghỉ 12 ngày phép năm và nghỉ ngày lễ theo luật lao động;\n",
    "Được nghỉ có hưởng lương vào ngày sinh nhật\n",
    "\"\"\""
   ]
  },
  {
   "cell_type": "code",
   "execution_count": null,
   "metadata": {
    "collapsed": false
   },
   "outputs": [],
   "source": [
    "# token = nltk.word_tokenize(jd_sample)\n",
    "bigrams = ngrams(jd_sample,2)\n",
    "trigrams = ngrams(jd_sample,3)\n",
    "fourgrams = ngrams(jd_sample,4)\n",
    "fivegrams = ngrams(jd_sample,5)"
   ]
  },
  {
   "cell_type": "code",
   "execution_count": null,
   "metadata": {
    "collapsed": false
   },
   "outputs": [
    {
     "name": "stdout",
     "output_type": "stream",
     "text": [
      "showing info https://raw.githubusercontent.com/nltk/nltk_data/gh-pages/index.xml\n"
     ]
    }
   ],
   "source": [
    "nltk.download()"
   ]
  },
  {
   "cell_type": "code",
   "execution_count": null,
   "metadata": {
    "collapsed": true
   },
   "outputs": [],
   "source": []
  }
 ],
 "metadata": {
  "anaconda-cloud": {},
  "kernelspec": {
   "display_name": "Python [conda root]",
   "language": "python",
   "name": "conda-root-py"
  },
  "language_info": {
   "codemirror_mode": {
    "name": "ipython",
    "version": 2
   },
   "file_extension": ".py",
   "mimetype": "text/x-python",
   "name": "python",
   "nbconvert_exporter": "python",
   "pygments_lexer": "ipython2",
   "version": "2.7.12"
  }
 },
 "nbformat": 4,
 "nbformat_minor": 2
}
